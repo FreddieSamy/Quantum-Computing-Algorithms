{
 "cells": [
  {
   "cell_type": "code",
   "execution_count": 99,
   "metadata": {},
   "outputs": [],
   "source": [
    "def getStateVector(SystemStateVector,qubit):\n",
    "    \"\"\"\n",
    "    calculates the state vector of a specific qubit using the state vector of the system \n",
    "    according to the equation   prob(qubit[i]=1)=sum(probabilities of the states that contain qubit[i]=1)\n",
    "                                state vector = [sqrt(prob(qubit[i]=0)), sqrt(prob(qubit[i]=1))]\n",
    "    \"\"\"\n",
    "    from math import sqrt,log2\n",
    "    num_qubits=int(log2(len(SystemStateVector)))\n",
    "    ProbOfOne=0\n",
    "    for i in range(len(SystemStateVector)):\n",
    "        pos = str((\"{0:0\"+str(num_qubits).replace('.0000', '')+\"b}\").format(i))[::-1]\n",
    "        if pos[qubit] == '1':\n",
    "            ProbOfOne += abs(SystemStateVector[i])**2\n",
    "    return [sqrt(1-ProbOfOne), sqrt(ProbOfOne)]"
   ]
  },
  {
   "cell_type": "code",
   "execution_count": 100,
   "metadata": {},
   "outputs": [
    {
     "name": "stdout",
     "output_type": "stream",
     "text": [
      "        ┌─────────────────────────────┐ ░            ░      ┌───┐ ░ ┌─┐    ░ »\n",
      "q166_0: ┤ initialize(0.83666,0.54772) ├─░────────────░───■──┤ H ├─░─┤M├────░─»\n",
      "        └─────────────────────────────┘ ░ ┌───┐      ░ ┌─┴─┐└───┘ ░ └╥┘┌─┐ ░ »\n",
      "q166_1: ────────────────────────────────░─┤ H ├──■───░─┤ X ├──────░──╫─┤M├─░─»\n",
      "                                        ░ └───┘┌─┴─┐ ░ └───┘      ░  ║ └╥┘ ░ »\n",
      "q167_0: ────────────────────────────────░──────┤ X ├─░────────────░──╫──╫──░─»\n",
      "                                        ░      └───┘ ░            ░  ║  ║  ░ »\n",
      "c166_0: ═════════════════════════════════════════════════════════════╩══╬════»\n",
      "                                                                        ║    »\n",
      "c167_0: ════════════════════════════════════════════════════════════════╩════»\n",
      "                                                                             »\n",
      "«                      \n",
      "«q166_0: ──────────────\n",
      "«                      \n",
      "«q166_1: ──────────────\n",
      "«         ┌───┐  ┌───┐ \n",
      "«q167_0: ─┤ X ├──┤ Z ├─\n",
      "«         └─┬─┘  └─┬─┘ \n",
      "«           │   ┌──┴──┐\n",
      "«c166_0: ═══╪═══╡ = 1 ╞\n",
      "«        ┌──┴──┐└─────┘\n",
      "«c167_0: ╡ = 1 ╞═══════\n",
      "«        └─────┘       \n",
      "\n",
      "Alice sent state vector :  [0.8366600265340756, 0.5477225575051661]\n",
      "\n",
      "Bob received state vector :  [0.8366600265340756, 0.5477225575051661]\n",
      "\n",
      "received correct data :  True\n"
     ]
    }
   ],
   "source": [
    "import numpy as np\n",
    "from qiskit import QuantumCircuit,QuantumRegister,ClassicalRegister,Aer,execute\n",
    "from qiskit.quantum_info import partial_trace\n",
    "\n",
    "stateToSend=[np.sqrt(0.70), np.sqrt(0.30)] \n",
    "#stateToSend=[1, 0] \n",
    "\n",
    "Alice_Qubits = QuantumRegister(2)    #qubit 0 and qubit 1\n",
    "Bob_Qubit = QuantumRegister(1)       #qubit 2\n",
    "creg1_Alice = ClassicalRegister(1)   #classical register 0\n",
    "creg2_Alice = ClassicalRegister(1)   #classical register 1\n",
    "\n",
    "circuit = QuantumCircuit(Alice_Qubits,Bob_Qubit,creg1_Alice,creg2_Alice)\n",
    "\n",
    "#initialize the qubit 0 \"the 1st qubit for Alice\" with the given state\n",
    "circuit.initialize(stateToSend,Alice_Qubits[0]) \n",
    "circuit.barrier()\n",
    "\n",
    "#Entanglement between qubit 1 \"the 2nd qubit for Alice\" and qubit 2 \"Bob qubit\"\n",
    "circuit.h(Alice_Qubits[1])\n",
    "circuit.cx(Alice_Qubits[1],Bob_Qubit)\n",
    "circuit.barrier()\n",
    "\n",
    "#Alice measurements\n",
    "circuit.cx(Alice_Qubits[0],Alice_Qubits[1])\n",
    "circuit.h(Alice_Qubits[0])\n",
    "circuit.barrier()\n",
    "\n",
    "circuit.measure(Alice_Qubits[0], creg1_Alice)\n",
    "circuit.measure(Alice_Qubits[1], creg2_Alice)\n",
    "circuit.barrier()\n",
    "\n",
    "#Bob correction step\n",
    "circuit.x(Bob_Qubit).c_if(creg2_Alice, 1)\n",
    "circuit.z(Bob_Qubit).c_if(creg1_Alice, 1)\n",
    "\n",
    "#get the state vector of the system\n",
    "backend = Aer.get_backend('statevector_simulator')\n",
    "systemState = execute(circuit,backend).result().get_statevector()\n",
    "\n",
    "#extract qubit 2 \"Bob qubit\" state vector using getStateVector() function\n",
    "BobQubitStateVector = getStateVector(systemState,2)\n",
    "\n",
    "print(circuit.draw('text'))\n",
    "\n",
    "print(\"\\nAlice sent state vector : \",stateToSend)\n",
    "\n",
    "print(\"\\nBob received state vector : \",BobQubitStateVector)\n",
    "\n",
    "print(\"\\nreceived correct data : \",BobQubitStateVector==stateToSend)"
   ]
  },
  {
   "cell_type": "code",
   "execution_count": null,
   "metadata": {},
   "outputs": [],
   "source": []
  }
 ],
 "metadata": {
  "kernelspec": {
   "display_name": "Python 3",
   "language": "python",
   "name": "python3"
  },
  "language_info": {
   "codemirror_mode": {
    "name": "ipython",
    "version": 3
   },
   "file_extension": ".py",
   "mimetype": "text/x-python",
   "name": "python",
   "nbconvert_exporter": "python",
   "pygments_lexer": "ipython3",
   "version": "3.7.4"
  }
 },
 "nbformat": 4,
 "nbformat_minor": 2
}
